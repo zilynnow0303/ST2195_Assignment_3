{
 "cells": [
  {
   "cell_type": "code",
   "execution_count": 1,
   "id": "f7fcbc1a",
   "metadata": {},
   "outputs": [],
   "source": [
    "import os \n",
    "import glob\n",
    "import sqlite3\n",
    "import pandas as pd\n"
   ]
  },
  {
   "cell_type": "code",
   "execution_count": 2,
   "id": "17d529f1",
   "metadata": {},
   "outputs": [],
   "source": [
    "try:\n",
    "    os.remove('airline2.db')\n",
    "# if something goes wrong, just let it go through\n",
    "except OSError:\n",
    "    pass"
   ]
  },
  {
   "cell_type": "code",
   "execution_count": 3,
   "id": "5999a3fb",
   "metadata": {},
   "outputs": [],
   "source": [
    "conn = sqlite3.connect('airline2.db')"
   ]
  },
  {
   "cell_type": "code",
   "execution_count": 4,
   "id": "49ba8ba7",
   "metadata": {},
   "outputs": [
    {
     "data": {
      "text/plain": [
       "'/Users/zilynnow/Desktop/ST2195_ProgrammingforDataScience/Assignment/Practice_Assignment_03/python_sql'"
      ]
     },
     "execution_count": 4,
     "metadata": {},
     "output_type": "execute_result"
    }
   ],
   "source": [
    "os.getcwd()"
   ]
  },
  {
   "cell_type": "code",
   "execution_count": 5,
   "id": "14d87df5",
   "metadata": {},
   "outputs": [
    {
     "name": "stderr",
     "output_type": "stream",
     "text": [
      "/Users/zilynnow/opt/anaconda3/lib/python3.8/site-packages/IPython/core/interactiveshell.py:3357: DtypeWarning: Columns (22) have mixed types.Specify dtype option on import or set low_memory=False.\n",
      "  if (await self.run_code(code, result,  async_=asy)):\n"
     ]
    }
   ],
   "source": [
    "os.chdir(\"/Users/zilynnow/Desktop/ST2195_ProgrammingforDataScience/Assignment/Practice_Assignment_03/ontime\")\n",
    "extension = \"csv\"\n",
    "all_filenames = [i for i in glob.glob('*.{}'.format(extension))]\n",
    "ontime = pd.concat([pd.read_csv(f) for f in all_filenames])"
   ]
  },
  {
   "cell_type": "code",
   "execution_count": 6,
   "id": "8f50dc4c",
   "metadata": {},
   "outputs": [
    {
     "name": "stdout",
     "output_type": "stream",
     "text": [
      "         Year  Month  DayofMonth  DayOfWeek  DepTime  CRSDepTime  ArrTime  \\\n",
      "0        2001      1          17          3   1806.0        1810   1931.0   \n",
      "1        2001      1          18          4   1805.0        1810   1938.0   \n",
      "2        2001      1          19          5   1821.0        1810   1957.0   \n",
      "3        2001      1          20          6   1807.0        1810   1944.0   \n",
      "4        2001      1          21          7   1810.0        1810   1954.0   \n",
      "...       ...    ...         ...        ...      ...         ...      ...   \n",
      "7140591  2005     12          22          4   1652.0        1655   1815.0   \n",
      "7140592  2005     12          22          4   1825.0        1825   1858.0   \n",
      "7140593  2005     12          22          4   1507.0        1511   1641.0   \n",
      "7140594  2005     12          22          4    924.0         925   1056.0   \n",
      "7140595  2005     12          22          4   1345.0        1344   1621.0   \n",
      "\n",
      "         CRSArrTime UniqueCarrier  FlightNum  ... TaxiIn  TaxiOut  Cancelled  \\\n",
      "0              1934            US        375  ...      5       20          0   \n",
      "1              1934            US        375  ...      9       20          0   \n",
      "2              1934            US        375  ...      6       10          0   \n",
      "3              1934            US        375  ...      4       27          0   \n",
      "4              1934            US        375  ...      4       38          0   \n",
      "...             ...           ...        ...  ...    ...      ...        ...   \n",
      "7140591        1837            DL        901  ...      7       15          0   \n",
      "7140592        1848            DL        902  ...      7       32          0   \n",
      "7140593        1649            DL        903  ...      4       29          0   \n",
      "7140594        1111            DL        904  ...      4       19          0   \n",
      "7140595        1614            DL        905  ...      6       27          0   \n",
      "\n",
      "         CancellationCode  Diverted  CarrierDelay WeatherDelay NASDelay  \\\n",
      "0                     NaN         0           NaN          NaN      NaN   \n",
      "1                     NaN         0           NaN          NaN      NaN   \n",
      "2                     NaN         0           NaN          NaN      NaN   \n",
      "3                     NaN         0           NaN          NaN      NaN   \n",
      "4                     NaN         0           NaN          NaN      NaN   \n",
      "...                   ...       ...           ...          ...      ...   \n",
      "7140591               NaN         0           0.0          0.0      0.0   \n",
      "7140592               NaN         0           0.0          0.0      0.0   \n",
      "7140593               NaN         0           0.0          0.0      0.0   \n",
      "7140594               NaN         0           0.0          0.0      0.0   \n",
      "7140595               NaN         0           0.0          0.0      0.0   \n",
      "\n",
      "         SecurityDelay  LateAircraftDelay  \n",
      "0                  NaN                NaN  \n",
      "1                  NaN                NaN  \n",
      "2                  NaN                NaN  \n",
      "3                  NaN                NaN  \n",
      "4                  NaN                NaN  \n",
      "...                ...                ...  \n",
      "7140591            0.0                0.0  \n",
      "7140592            0.0                0.0  \n",
      "7140593            0.0                0.0  \n",
      "7140594            0.0                0.0  \n",
      "7140595            0.0                0.0  \n",
      "\n",
      "[37680592 rows x 29 columns]\n"
     ]
    }
   ],
   "source": [
    "print(ontime)"
   ]
  },
  {
   "cell_type": "code",
   "execution_count": 7,
   "id": "aee3eb81",
   "metadata": {},
   "outputs": [],
   "source": [
    "airports = pd.read_csv(\"/Users/zilynnow/Desktop/ST2195_ProgrammingforDataScience/Assignment/Practice_Assignment_03/dataverse_files/airports.csv\")\n",
    "carriers = pd.read_csv(\"/Users/zilynnow/Desktop/ST2195_ProgrammingforDataScience/Assignment/Practice_Assignment_03/dataverse_files/carriers.csv\")\n",
    "planes = pd.read_csv(\"/Users/zilynnow/Desktop/ST2195_ProgrammingforDataScience/Assignment/Practice_Assignment_03/dataverse_files/plane-data.csv\")"
   ]
  },
  {
   "cell_type": "code",
   "execution_count": 8,
   "id": "b636d3cb",
   "metadata": {},
   "outputs": [],
   "source": [
    "ontime.to_sql(\"ontime\", con = conn, index = False) "
   ]
  },
  {
   "cell_type": "code",
   "execution_count": 9,
   "id": "9a464431",
   "metadata": {},
   "outputs": [],
   "source": [
    "airports.to_sql(\"airports\", con = conn, index = False)\n",
    "carriers.to_sql(\"carriers\", con = conn, index = False)\n",
    "planes.to_sql(\"planes\", con = conn, index = False)"
   ]
  },
  {
   "cell_type": "code",
   "execution_count": 10,
   "id": "9b4748b3",
   "metadata": {},
   "outputs": [],
   "source": [
    "c = conn.cursor()"
   ]
  },
  {
   "cell_type": "code",
   "execution_count": 11,
   "id": "536c0d30",
   "metadata": {},
   "outputs": [
    {
     "data": {
      "text/plain": [
       "[('ontime',), ('airports',), ('carriers',), ('planes',)]"
      ]
     },
     "execution_count": 11,
     "metadata": {},
     "output_type": "execute_result"
    }
   ],
   "source": [
    "c.execute('''\n",
    "SELECT name \n",
    "FROM sqlite_master \n",
    "WHERE type='table'\n",
    "''').fetchall()"
   ]
  },
  {
   "cell_type": "markdown",
   "id": "e839b144",
   "metadata": {},
   "source": [
    "Q1: Which plane model has the lowest associated average departure delay (excluding cancelled and diverted flights)?"
   ]
  },
  {
   "cell_type": "code",
   "execution_count": 15,
   "id": "6de4595b",
   "metadata": {},
   "outputs": [],
   "source": [
    "q1= c.execute('''\n",
    "SELECT model AS model, AVG(ontime.DepDelay) AS avg_DepDelay\n",
    "FROM ontime INNER JOIN planes USING (tailnum)\n",
    "WHERE ontime.DepDelay>0 & ontime.Diverted == 0 & ontime.Cancelled == 0\n",
    "GROUP BY model\n",
    "ORDER BY avg_DepDelay ASC\n",
    "''').fetchall()\n",
    "\n",
    "pd.DataFrame(q1).to_sql(\"q1\", con = conn, index = False)"
   ]
  },
  {
   "cell_type": "code",
   "execution_count": 16,
   "id": "e7498271",
   "metadata": {},
   "outputs": [
    {
     "name": "stdout",
     "output_type": "stream",
     "text": [
      "737-2Y5 has the lowest associated average departure delay.\n"
     ]
    }
   ],
   "source": [
    "print(q1[0][0],\"has the lowest associated average departure delay.\")"
   ]
  },
  {
   "cell_type": "code",
   "execution_count": 17,
   "id": "1ee03907",
   "metadata": {},
   "outputs": [],
   "source": [
    "q1 = c.execute('''\n",
    "ALTER TABLE q1\n",
    "RENAME COLUMN \"0\" TO model \n",
    "''').fetchall()\n",
    "\n",
    "q1 = c.execute('''\n",
    "ALTER TABLE q1\n",
    "RENAME COLUMN \"1\" TO avg_DepDelay\n",
    "''').fetchall()"
   ]
  },
  {
   "cell_type": "markdown",
   "id": "6b10c9d4",
   "metadata": {},
   "source": [
    "Q2: Which city has the highest number of inbound flights (excluding cancelled flights?)"
   ]
  },
  {
   "cell_type": "code",
   "execution_count": 18,
   "id": "2c955941",
   "metadata": {},
   "outputs": [],
   "source": [
    "q2= c.execute('''\n",
    "SELECT airports.city AS airport, COUNT(*) as total\n",
    "FROM airports INNER JOIN ontime\n",
    "ON ontime.Dest = airports.iata\n",
    "WHERE ontime.Cancelled = 0 \n",
    "GROUP BY airports.city\n",
    "ORDER BY total DESC \n",
    "''').fetchall()\n",
    "\n",
    "pd.DataFrame(q2).to_sql(\"q2\", con = conn, index = False)"
   ]
  },
  {
   "cell_type": "code",
   "execution_count": 19,
   "id": "6164f29b",
   "metadata": {},
   "outputs": [
    {
     "name": "stdout",
     "output_type": "stream",
     "text": [
      "Chicago highest number of inbound flights (excluding cancelled flights).\n"
     ]
    }
   ],
   "source": [
    "print(q2[0][0],\"highest number of inbound flights (excluding cancelled flights).\")"
   ]
  },
  {
   "cell_type": "code",
   "execution_count": 20,
   "id": "71345510",
   "metadata": {},
   "outputs": [],
   "source": [
    "q2 = c.execute('''\n",
    "ALTER TABLE q2\n",
    "RENAME COLUMN \"0\" TO airport \n",
    "''').fetchall()\n",
    "\n",
    "q2 = c.execute('''\n",
    "ALTER TABLE q2\n",
    "RENAME COLUMN \"1\" TO total\n",
    "''').fetchall()"
   ]
  },
  {
   "cell_type": "markdown",
   "id": "841574e9",
   "metadata": {},
   "source": [
    "Q3: Which carrier has the highest number of cancelled flights?"
   ]
  },
  {
   "cell_type": "code",
   "execution_count": 30,
   "id": "4bb76fb1",
   "metadata": {},
   "outputs": [],
   "source": [
    "q3 = c.execute('''\n",
    "SELECT carriers.Description AS carrier, COUNT(*) as total\n",
    "FROM carriers INNER JOIN ontime \n",
    "ON ontime.UniqueCarrier = carriers.Code\n",
    "WHERE ontime.Cancelled = 1\n",
    "GROUP BY carriers.Description\n",
    "ORDER BY total DESC \n",
    "''').fetchall()\n",
    "pd.DataFrame(q3).to_sql(\"q3\", con = conn, index = False)"
   ]
  },
  {
   "cell_type": "code",
   "execution_count": 31,
   "id": "e46d89f2",
   "metadata": {},
   "outputs": [
    {
     "name": "stdout",
     "output_type": "stream",
     "text": [
      "Delta Air Lines Inc. has the highest number of cancelled flights.\n"
     ]
    }
   ],
   "source": [
    "print(q3[0][0],\"has the highest number of cancelled flights.\")"
   ]
  },
  {
   "cell_type": "code",
   "execution_count": 32,
   "id": "5871a417",
   "metadata": {},
   "outputs": [],
   "source": [
    "q3 = c.execute('''\n",
    "ALTER TABLE q3\n",
    "RENAME COLUMN \"0\" TO carrier\n",
    "''').fetchall()\n",
    "\n",
    "q3 = c.execute('''\n",
    "ALTER TABLE q3\n",
    "RENAME COLUMN \"1\" TO total\n",
    "''').fetchall()"
   ]
  },
  {
   "cell_type": "markdown",
   "id": "d63762db",
   "metadata": {},
   "source": [
    "Q4: Which carrier has the highest number of cancelled flights, relative to their number of total flights?"
   ]
  },
  {
   "cell_type": "code",
   "execution_count": 24,
   "id": "1ece73bf",
   "metadata": {},
   "outputs": [],
   "source": [
    "UniqueCarrierCount = c.execute('''\n",
    "SELECT carriers.Description AS carrier, COUNT(*) as denominator\n",
    "FROM carriers INNER JOIN ontime \n",
    "ON ontime.UniqueCarrier = carriers.Code\n",
    "GROUP BY carriers.Description\n",
    "ORDER BY denominator DESC\n",
    "''').fetchall()\n",
    "pd.DataFrame(UniqueCarrierCount).to_sql(\"UniqueCarrierCount\", con = conn, index = False)\n"
   ]
  },
  {
   "cell_type": "code",
   "execution_count": 25,
   "id": "6b13fb0b",
   "metadata": {},
   "outputs": [],
   "source": [
    "UniqueCarrierCount = c.execute('''\n",
    "ALTER TABLE UniqueCarrierCount\n",
    "RENAME COLUMN \"0\" TO carrier\n",
    "''').fetchall()\n",
    "\n",
    "UniqueCarrierCount = c.execute('''\n",
    "ALTER TABLE UniqueCarrierCount\n",
    "RENAME COLUMN \"1\" TO denominator\n",
    "''').fetchall()"
   ]
  },
  {
   "cell_type": "code",
   "execution_count": 26,
   "id": "6b364026",
   "metadata": {},
   "outputs": [],
   "source": [
    "q4 = c.execute('''\n",
    "SELECT carrier AS carrier, total* 1./denominator as ratio\n",
    "FROM q3 INNER JOIN UniqueCarrierCount USING(carrier)\n",
    "ORDER BY ratio DESC\n",
    "''').fetchall()\n",
    "\n",
    "pd.DataFrame(q4).to_sql(\"q4\", con = conn, index = False)"
   ]
  },
  {
   "cell_type": "code",
   "execution_count": 27,
   "id": "cfd016ff",
   "metadata": {},
   "outputs": [
    {
     "name": "stdout",
     "output_type": "stream",
     "text": [
      "American Eagle Airlines Inc. has the highest number of cancelled flights, relative to their number of total flights.\n"
     ]
    }
   ],
   "source": [
    "print(q4[0][0],\"has the highest number of cancelled flights, relative to their number of total flights.\")"
   ]
  },
  {
   "cell_type": "code",
   "execution_count": 28,
   "id": "3c51a9e1",
   "metadata": {},
   "outputs": [],
   "source": [
    "q4 = c.execute('''\n",
    "ALTER TABLE q4\n",
    "RENAME COLUMN \"0\" TO carrier\n",
    "''').fetchall()\n",
    "\n",
    "q4 = c.execute('''\n",
    "ALTER TABLE q4\n",
    "RENAME COLUMN \"1\" TO ratio\n",
    "''').fetchall()"
   ]
  },
  {
   "cell_type": "code",
   "execution_count": 33,
   "id": "a9ad63f8",
   "metadata": {},
   "outputs": [],
   "source": [
    "conn.commit()"
   ]
  },
  {
   "cell_type": "code",
   "execution_count": 34,
   "id": "5c618f39",
   "metadata": {},
   "outputs": [],
   "source": [
    "conn.close()"
   ]
  },
  {
   "cell_type": "code",
   "execution_count": null,
   "id": "7e3e76d4",
   "metadata": {},
   "outputs": [],
   "source": []
  }
 ],
 "metadata": {
  "kernelspec": {
   "display_name": "Python 3",
   "language": "python",
   "name": "python3"
  },
  "language_info": {
   "codemirror_mode": {
    "name": "ipython",
    "version": 3
   },
   "file_extension": ".py",
   "mimetype": "text/x-python",
   "name": "python",
   "nbconvert_exporter": "python",
   "pygments_lexer": "ipython3",
   "version": "3.8.8"
  }
 },
 "nbformat": 4,
 "nbformat_minor": 5
}
